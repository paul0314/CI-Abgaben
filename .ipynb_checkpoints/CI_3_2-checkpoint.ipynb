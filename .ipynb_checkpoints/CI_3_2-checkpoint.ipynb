{
 "cells": [
  {
   "cell_type": "code",
   "execution_count": 1,
   "id": "42eb57a5",
   "metadata": {},
   "outputs": [],
   "source": [
    "import numpy as np\n",
    "import matplotlib.pyplot as plt\n",
    "import pylab\n",
    "from sklearn.utils import shuffle\n",
    "from sklearn.model_selection import train_test_split"
   ]
  },
  {
   "cell_type": "code",
   "execution_count": 2,
   "id": "54ac113a",
   "metadata": {},
   "outputs": [],
   "source": [
    "# Fehlerfunktion\n",
    "def logistic(x):\n",
    "    return 1.0 / (1.0 + np.exp(-x))\n",
    "\n",
    "# Ableitung der Fehlerfunktion\n",
    "def logistic_deriv(x):\n",
    "    return logistic(x) * (1 - logistic(x))\n",
    "    \n",
    "# Aufbau des Netzwerkes    \n",
    "input_neurons = 2\n",
    "hidden_neurons = 30\n",
    "\n",
    "learning_rate = .25\n",
    "\n",
    "# Zielfunktion\n",
    "def f(x):\n",
    "    return np.cos(x/2) + np.sin(5 / (np.abs(x)+0.4)) + 0.1*x \n",
    "\n",
    "# Argument-Wert-Paare\n",
    "min_value = -10\n",
    "max_value = 10\n",
    "number_of_samples = 1001\n",
    "stepsize = (max_value-min_value) / number_of_samples\n",
    "X = [-10 + a*stepsize for a in range(0, number_of_samples+1)]\n",
    "X = np.array([[1, a] for a in X])\n",
    "y = [f(a[1]) for a in X]\n",
    "\n",
    "# Initialisiere Gewichte\n",
    "weights_input_to_hidden = np.random.uniform(-1,1,(input_neurons, hidden_neurons))\n",
    "weights_hidden_to_output = np.random.uniform(-1,1,hidden_neurons)\n",
    "\n",
    "# Werte in den Neuronen der hidden layer\n",
    "net_hidden = np.zeros(hidden_neurons)\n",
    "out_hidden = np.zeros(hidden_neurons)\n",
    "\n",
    "# Teile in Trainigs- und Testdaten auf\n",
    "X_train, X_test, y_train, y_test = train_test_split(X, y, test_size=.33, shuffle=True)"
   ]
  },
  {
   "cell_type": "code",
   "execution_count": 3,
   "id": "1815ff2a",
   "metadata": {},
   "outputs": [],
   "source": [
    "# Hilfsfunktion um den Output des NN für gegebene Eingabe zu berechnen\n",
    "def calc_output(X_i):\n",
    "    for hidden_neuron in range(hidden_neurons):\n",
    "        net_hidden[hidden_neuron] = np.dot(X_i, weights_input_to_hidden[:, hidden_neuron])\n",
    "        out_hidden[hidden_neuron] = logistic(net_hidden[hidden_neuron])\n",
    "    net_output = np.dot(out_hidden, weights_hidden_to_output)\n",
    "    out_output = logistic(net_output)\n",
    "    return out_output"
   ]
  },
  {
   "cell_type": "code",
   "execution_count": 4,
   "id": "39cf1586",
   "metadata": {},
   "outputs": [],
   "source": [
    "def calc_error(X_test, y_test):\n",
    "    summe = 0\n",
    "    for i, X in enumerate(X_test):\n",
    "        summe += (calc_output(X) - y_test[i])**2\n",
    "    return summe / len(X_test)"
   ]
  },
  {
   "cell_type": "code",
   "execution_count": 5,
   "id": "6ace97ed",
   "metadata": {},
   "outputs": [
    {
     "data": {
      "image/png": "[encoded data removed]",
      "text/plain": [
       "<Figure size 432x288 with 1 Axes>"
      ]
     },
     "metadata": {
      "needs_background": "light"
     },
     "output_type": "display_data"
    },
    {
     "data": {
      "image/png": "[encoded data removed]",
      "text/plain": [
       "<Figure size 432x288 with 1 Axes>"
      ]
     },
     "metadata": {
      "needs_background": "light"
     },
     "output_type": "display_data"
    }
   ],
   "source": [
    "# Enthält den Fehler zu verschiedenen Trainingszeiten\n",
    "errors = []\n",
    "# Füge initialen Fehler hinzu\n",
    "errors.append(calc_error(X_test, y_test))\n",
    "\n",
    "# Training\n",
    "# Aktuell 2-mal mit allen Trainingsdatensätzen trainieren\n",
    "for j in range(2):\n",
    "    for i in range(len(X_train)):\n",
    "        # net_output, out_output = calc_output(X_train[i,:], hidden_neurons)\n",
    "        for hidden_neuron in range(hidden_neurons):\n",
    "            net_hidden[hidden_neuron] = np.dot(X_train[i,:], weights_input_to_hidden[:, hidden_neuron])\n",
    "            out_hidden[hidden_neuron] = logistic(net_hidden[hidden_neuron])\n",
    "        net_output = np.dot(out_hidden, weights_hidden_to_output)\n",
    "        out_output = logistic(net_output)\n",
    "\n",
    "        # Partielle Ableitung der Fehlerfunktion nach out des (einzigen) Outputneurons\n",
    "        error_out = -1* (y_train[i] - out_output)\n",
    "\n",
    "        for hidden_neuron in range(hidden_neurons):\n",
    "            # Partielle Ableitungen von: Error / out_hidden; out_hidden / net_hidden; net_hidden / weight\n",
    "            # TODO: net_output oder out_output überprüfen in logistic_deriv\n",
    "            gradient_hidden_to_output = error_out * logistic_deriv(net_output) * out_hidden[hidden_neuron]\n",
    "            \n",
    "            # For-Schleife für das Training zwischen Eingabeschicht und verdeckter Schicht\n",
    "            # Hier in Aufgabe 3.2) nicht gebraucht\n",
    "            # for input_neuron in range(input_neurons):\n",
    "                # input_val = X_train[i, input_neuron]\n",
    "                # Partielle Ableitung: Error / net_out\n",
    "                # gradient_first_part = error_out * logistic_deriv(net_output)\n",
    "                # Partielle Ableitung: net_out / out_hidden\n",
    "                # gradient_second_part = weights_hidden_to_output[hidden_neuron]\n",
    "                # Jetzt gilt: first_part * second_part = Partielle Ableitung von Error / out_hidden\n",
    "                # Jetzt für third_part: Partielle Ableitung von out_hidden / net_hidden\n",
    "                # TODO: net_hidden oder out_hidden überprüfen in logistic_deriv\n",
    "                # gradient_third_part = logistic_deriv(net_hidden[hidden_neuron])\n",
    "                # Partielle Ableitung von net_hidden / weight\n",
    "                # gradient_fourth_part = input_val\n",
    "                # Gesamter Gradient\n",
    "                # gradient_input_to_hidden =  gradient_first_part * gradient_second_part * gradient_third_part * gradient_fourth_part\n",
    "                # delta = -1 * learning_rate * gradient_input_to_hidden\n",
    "                # weights_input_to_hidden[input_neuron, hidden_neuron] += delta\n",
    "\n",
    "            delta = -1 * learning_rate * gradient_hidden_to_output\n",
    "            weights_hidden_to_output[hidden_neuron] += delta\n",
    "\n",
    "        # Berechne Fehler zu Zeitpunkt i\n",
    "        errors.append(calc_error(X_test, y_test))\n",
    "\n",
    "fig = plt.figure()\n",
    "ax = fig.add_subplot(2,1,1)\n",
    "ax.plot([i for i in range(len(errors))], errors)\n",
    "ax.set_yscale('log')\n",
    "pylab.show()\n",
    "\n",
    "fig = plt.figure()\n",
    "ax = fig.add_subplot(2,1,1)\n",
    "X = np.arange(-10,10.001,.001)\n",
    "ax.plot(X, [f(x) for x in X], label=\"f(x)\")\n",
    "ax.plot(X, [calc_output([1, x]) for x in X], label=\"g(x)\")\n",
    "ax.legend()\n",
    "pylab.show()"
   ]
  },
  {
   "cell_type": "code",
   "execution_count": 6,
   "id": "5f5306e0",
   "metadata": {},
   "outputs": [
    {
     "name": "stdout",
     "output_type": "stream",
     "text": [
      "0.35264596299676165\n"
     ]
    }
   ],
   "source": [
    "print(calc_error(X_test, y_test))"
   ]
  },
  {
   "cell_type": "code",
   "execution_count": null,
   "id": "d9a533b3",
   "metadata": {},
   "outputs": [],
   "source": []
  }
 ],
 "metadata": {
  "kernelspec": {
   "display_name": "Python 3 (ipykernel)",
   "language": "python",
   "name": "python3"
  },
  "language_info": {
   "codemirror_mode": {
    "name": "ipython",
    "version": 3
   },
   "file_extension": ".py",
   "mimetype": "text/x-python",
   "name": "python",
   "nbconvert_exporter": "python",
   "pygments_lexer": "ipython3",
   "version": "3.9.12"
  }
 },
 "nbformat": 4,
 "nbformat_minor": 5
}
