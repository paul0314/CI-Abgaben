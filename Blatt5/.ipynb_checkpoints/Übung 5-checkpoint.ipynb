{
 "cells": [
  {
   "cell_type": "markdown",
   "metadata": {},
   "source": [
    "# Übungsblatt 5"
   ]
  },
  {
   "cell_type": "markdown",
   "metadata": {},
   "source": [
    "Abgabe von: Vorname, Nachname & Vorname, Nachname & Vorname, Nachname ..."
   ]
  },
  {
   "cell_type": "markdown",
   "metadata": {},
   "source": [
    "## Aufgabe 1"
   ]
  },
  {
   "cell_type": "code",
   "execution_count": 17,
   "metadata": {},
   "outputs": [],
   "source": [
    "import numpy as np\n",
    "from sklearn.utils import shuffle\n",
    "from sklearn.model_selection import train_test_split\n",
    "import matplotlib.pyplot as plt\n",
    "import pylab\n",
    "\n",
    "# Helper functions for generating points and labels\n",
    "def class1_point(x):\n",
    "    return np.array([2+np.sin(.2*x+8)*np.sqrt(x+10), -1+np.cos(0.2*x+8)*np.sqrt(x+10)]), 1\n",
    "\n",
    "def class2_point(x):\n",
    "    return np.array([2+np.sin(.2*x-8)*np.sqrt(x+10), -1+np.cos(0.2*x-8)*np.sqrt(x+10)]), 0\n",
    "\n",
    "data = []\n",
    "labels = []\n",
    "\n",
    "# Init data\n",
    "for u in range(1, 251):\n",
    "    point, label = class1_point(u)\n",
    "    data.append(point)\n",
    "    labels.append(label)\n",
    "    \n",
    "for u in range(1, 251):\n",
    "    point, label = class2_point(u)\n",
    "    data.append(point)\n",
    "    labels.append(label)\n",
    " \n",
    "# Split data\n",
    "X_train, X_test, y_train, y_test = train_test_split(data, labels, test_size=.33, shuffle=True)\n",
    "\n",
    "# Network Parameters\n",
    "input_neurons = 2\n",
    "hidden_neurons = 75\n",
    "\n",
    "weights_hidden_to_output = np.random.uniform(-1,1,hidden_neurons)"
   ]
  },
  {
   "cell_type": "code",
   "execution_count": 18,
   "metadata": {},
   "outputs": [],
   "source": [
    "def euclidean(x, y):\n",
    "    return np.linalg.norm(x-y)\n",
    "\n",
    "def check_equal(x, y):\n",
    "    new_x = []\n",
    "    new_y = []\n",
    "    for ele in x:\n",
    "        new_x.append(list(ele))\n",
    "    for ele in y:\n",
    "        new_y.append(list(ele))\n",
    "    return sorted(new_x) == sorted(new_y)\n",
    "\n",
    "def kmeans(X, k, iterations):\n",
    "    centers = X[:k]\n",
    "    unchanged = False\n",
    "    iteration = 0\n",
    "    \n",
    "    for _ in range(iterations):\n",
    "        cluster = [[] for i in range(len(centers))]\n",
    "\n",
    "        for x in X:\n",
    "            distances_list = []\n",
    "            min_index = 0\n",
    "            min_value = euclidean(centers[0], x)\n",
    "            for index, center in enumerate(centers):\n",
    "                curr_distance = euclidean(center, x)\n",
    "                if curr_distance < min_value:\n",
    "                    min_value = curr_distance\n",
    "                    min_index = index\n",
    "            cluster[min_index].append(x)\n",
    "\n",
    "        prev_centers = centers.copy()\n",
    "        centers = []\n",
    "\n",
    "        for i in range(len(cluster)):\n",
    "            cluster_mean = np.mean(cluster[i], axis=0)\n",
    "            centers.append(cluster_mean)\n",
    "\n",
    "        if check_equal(prev_centers, centers):\n",
    "            break\n",
    "\n",
    "    standard_deviations = np.array([np.std(x) for x in cluster])\n",
    "    centers = np.array(centers)\n",
    "    return centers, standard_deviations"
   ]
  },
  {
   "cell_type": "code",
   "execution_count": 19,
   "metadata": {},
   "outputs": [],
   "source": [
    "epochs = 500\n",
    "learning_rate = 0.05\n",
    "\n",
    "centers, standard_deviations = kmeans(X_train, hidden_neurons, 10000)\n",
    "\n",
    "def rbf_in(x, center):\n",
    "    return euclidean(x, center)\n",
    "    \n",
    "def rbf_out(rbf_in, standard_deviation):\n",
    "    return np.exp(-rbf_in**2/(2*standard_deviation**2))\n",
    "\n",
    "def calculate_output(x, centers, weights):\n",
    "    output = 0\n",
    "    for j in range(len(centers)):\n",
    "        output += rbf_out(rbf_in(x, centers[j]), standard_deviations[j]) * weights_hidden_to_output[j]\n",
    "    return output\n",
    "\n",
    "for epoch in range(epochs):\n",
    "    for i in range(len(X_train)):\n",
    "        # weights_hidden_to_output\n",
    "        x = X_train[i]\n",
    "        y = y_train[i]\n",
    "        # Forward pass\n",
    "        output = calculate_output(x, centers, weights_hidden_to_output)\n",
    "        # Delta\n",
    "        for j in range(len(weights_hidden_to_output)):\n",
    "            weights_hidden_to_output[j] += learning_rate * (y_train[i] - output) * rbf_out(rbf_in(x, centers[j]), standard_deviations[j])\n"
   ]
  },
  {
   "cell_type": "code",
   "execution_count": 23,
   "metadata": {},
   "outputs": [],
   "source": [
    "all_points = X_train\n",
    "values = y_train\n",
    "class_1_x_points = []\n",
    "class_2_x_points = []\n",
    "class_1_y_points = []\n",
    "class_2_y_points = []\n",
    "for index in range(len(values)):\n",
    "    if values[index] == 1:\n",
    "        class_1_x_points.append(all_points[index][0])\n",
    "        class_1_y_points.append(all_points[index][1])\n",
    "    else:\n",
    "        class_2_x_points.append(all_points[index][0])\n",
    "        class_2_y_points.append(all_points[index][1])"
   ]
  },
  {
   "cell_type": "code",
   "execution_count": 24,
   "metadata": {},
   "outputs": [
    {
     "data": {
      "image/png": "[encoded data removed]",
      "text/plain": [
       "<Figure size 600x400 with 1 Axes>"
      ]
     },
     "metadata": {
      "needs_background": "light"
     },
     "output_type": "display_data"
    }
   ],
   "source": [
    "fig = plt.figure()\n",
    "fig.set_dpi(100)\n",
    "ax = fig.add_subplot(2,1,1)\n",
    "ax.scatter(class_1_x_points, class_1_y_points,c=\"red\", label=\"Klasse 1\")\n",
    "ax.scatter(class_2_x_points, class_2_y_points,c=\"blue\", label=\"Klasse 2\")\n",
    "ax.legend()\n",
    "pylab.show()"
   ]
  },
  {
   "cell_type": "code",
   "execution_count": 25,
   "metadata": {},
   "outputs": [],
   "source": [
    "all_points = [np.array([x,y]) for x in np.arange(-18,18.1,.1) for y in np.arange(-18, 18.1,.1)]\n",
    "values = [np.sign(calculate_output(point, centers, weights_hidden_to_output)) for point in all_points]\n",
    "class_1_x_points = []\n",
    "class_2_x_points = []\n",
    "class_1_y_points = []\n",
    "class_2_y_points = []\n",
    "for index in range(len(values)):\n",
    "    if values[index] == 1:\n",
    "        class_1_x_points.append(all_points[index][0])\n",
    "        class_1_y_points.append(all_points[index][1])\n",
    "    else:\n",
    "        class_2_x_points.append(all_points[index][0])\n",
    "        class_2_y_points.append(all_points[index][1])"
   ]
  },
  {
   "cell_type": "code",
   "execution_count": 21,
   "metadata": {},
   "outputs": [
    {
     "data": {
      "image/png": "[encoded data removed]",
      "text/plain": [
       "<Figure size 600x400 with 1 Axes>"
      ]
     },
     "metadata": {
      "needs_background": "light"
     },
     "output_type": "display_data"
    }
   ],
   "source": [
    "fig = plt.figure()\n",
    "fig.set_dpi(100)\n",
    "ax = fig.add_subplot(2,1,1)\n",
    "ax.scatter(class_1_x_points, class_1_y_points,c=\"red\", label=\"Klasse 1\")\n",
    "ax.scatter(class_2_x_points, class_2_y_points,c=\"blue\", label=\"Klasse 2\")\n",
    "ax.legend()\n",
    "pylab.show()"
   ]
  },
  {
   "cell_type": "code",
   "execution_count": 22,
   "metadata": {},
   "outputs": [
    {
     "data": {
      "image/png": "[encoded data removed]",
      "text/plain": [
       "<Figure size 600x400 with 1 Axes>"
      ]
     },
     "metadata": {
      "needs_background": "light"
     },
     "output_type": "display_data"
    }
   ],
   "source": [
    "centers_x = []\n",
    "centers_y = []\n",
    "for center in centers:\n",
    "    centers_x.append(center[0])\n",
    "    centers_y.append(center[1])\n",
    "\n",
    "fig = plt.figure()\n",
    "fig.set_dpi(100)\n",
    "ax = fig.add_subplot(2,1,1)\n",
    "ax.scatter(centers_x, centers_y,c=\"red\", label=\"Center\")\n",
    "ax.legend()\n",
    "pylab.show()"
   ]
  },
  {
   "cell_type": "markdown",
   "metadata": {},
   "source": [
    "## Aufgabe 2"
   ]
  },
  {
   "cell_type": "markdown",
   "metadata": {},
   "source": [
    "Das Ziel dieses Teils des Notebooks ist es, dass ihr euch mit PyTorch vertraut macht und nicht abgeschreckt werdet vom schieren Umfang des Frameworks. Die grundlegenden Dinge haben wir für euch implementiert und Sachen, wie das Laden der Daten, übernommen. Damit sollt ihr einen Überblick kriegen, wie man ein neuronales Netz strukturiert sowie aufbaut und im Anschluss daran das Netz trainiert.\n",
    "\n",
    "An den Stellen, wo ihr selbst noch Code ergänzen sollt haben wir \"########### CODE ERGÄNZEN ###########\" an den Start der Zelle geschrieben. Was genau ihr ergänzen sollt haben wir an den entsprechenden Punkten hingeschrieben."
   ]
  },
  {
   "cell_type": "code",
   "execution_count": null,
   "metadata": {},
   "outputs": [],
   "source": [
    "# imports\n",
    "\n",
    "import torch                                        # PyTorch\n",
    "import torch.nn as nn                               # Enthält wichtigste Funktionen und vor allem die Layer für Neuronale Netze\n",
    "import torch.nn.functional as F                     # Enthält die Implementierungen der Layer und weitere wichtige Funktionen\n",
    "import torch.optim as optim                         # Enthält die Optimierer und vieles mehr zum effizienten lernen und automatische Backpropagation\n",
    "from torch.utils.data import Dataset, DataLoader    # Datset und DataLoader werden benötigt, um Daten zu laden und ordentlich zu repräsentieren\n",
    "from torchvision import datasets                    # Enthält Möglichkeiten verschiedene Datensets herunterzuladen\n",
    "import matplotlib.pyplot as plt                     # Matplotlib zum Zeichnen von Diagrammen\n",
    "import numpy as np                                  # Numpy für schnelle Rechnungen auf der CPU\n",
    "import seaborn as sns                               # Zum Plotten - an manchen Stellen einfacher als matplotlib"
   ]
  },
  {
   "cell_type": "code",
   "execution_count": null,
   "metadata": {},
   "outputs": [],
   "source": [
    "# Wer eine GPU hat, kann diese nutzen. Sollte keine GPU vorhanden sein erkennt PyTorch automatisch die CPU.\n",
    "device = 'cuda' if torch.cuda.is_available() else 'cpu' "
   ]
  },
  {
   "cell_type": "code",
   "execution_count": null,
   "metadata": {},
   "outputs": [],
   "source": [
    "# In diesem Schritt werden die Daten heruntergeladen und gespeichert.\n",
    "\n",
    "data_folder = './data/MNIST'\n",
    "tr_mnist = datasets.MNIST(data_folder, download = True, train = True) # Lädt das Trainingsdatenset mit 60k Bildern herunter\n",
    "val_mnist = datasets.MNIST(data_folder, download = True, train = False) # Lädt das Testdatenset mit 10k Bildern herunter\n",
    "\n",
    "tr_images = tr_mnist.data # \"Speichert\" die Bilder in der entsprechenden Variable\n",
    "tr_label = tr_mnist.targets # \"Speichert\" die Labels in der entsprechenden Variable\n",
    "\n",
    "val_images = val_mnist.data\n",
    "val_label = val_mnist.targets"
   ]
  },
  {
   "cell_type": "code",
   "execution_count": null,
   "metadata": {},
   "outputs": [],
   "source": [
    "# Hier erstellen wir eine Klasse die von Dataset erbt, um die Daten im DataLoader nutzen zu können und über batches iterieren zu können.\n",
    "\n",
    "class MNISTDataset(Dataset):\n",
    "    def __init__(self, x, y):\n",
    "        x = x.float()/255. # Zur Normalisierung\n",
    "        x = x.view(-1, 1, 28, 28) # Tensoren müssen die Form (B, C, H, W) mit B=Batch Größe, C=Kanäle (3 für RBG, 1 für Schwarz/Weiß), H=Höhe und W = Breite\n",
    "        self.x, self.y = x, y\n",
    "\n",
    "    def __getitem__(self, ix):\n",
    "        x, y = self.x[ix], self.y[ix]\n",
    "        return x.to(device), y.to(device) # Hiermit werden die Daten auf die CPU/RAM oder die GPU geladen\n",
    "\n",
    "    def __len__(self):\n",
    "        return len(self.x)"
   ]
  },
  {
   "cell_type": "code",
   "execution_count": null,
   "metadata": {},
   "outputs": [],
   "source": [
    "########## CODE ERGÄNZEN #########\n",
    "\n",
    "# Erstellung des Netzes\n",
    "\n",
    "class CNN(nn.Module):\n",
    "    def __init__(self):\n",
    "        super(CNN, self).__init__()\n",
    "        self.cnn = nn.Sequential(\n",
    "            # TODO: Convolutional Neural Network implementieren mit Flatten zum Schluss\n",
    "            ########## CODE ERGÄNZEN #########\n",
    "        )\n",
    "        self.fc = nn.Sequential(\n",
    "            # TODO: Fully Connected Layer einfügen bis zur Ausgabe\n",
    "            ########## CODE ERGÄNZEN #########\n",
    "        )\n",
    "\n",
    "    def forward(self, input):\n",
    "        # TODO: Modell zusammensetzen und Ausgabe zurückgeben\n",
    "        ########## CODE ERGÄNZEN #########\n",
    "        pass"
   ]
  },
  {
   "cell_type": "code",
   "execution_count": null,
   "metadata": {},
   "outputs": [],
   "source": [
    "########## CODE ERGÄNZEN #########\n",
    "\n",
    "# Training und Evaluation des Netzes\n",
    "\n",
    "def get_data():     \n",
    "    train = MNISTDataset(tr_images, tr_label)     \n",
    "    trn_dl = DataLoader(train, batch_size=32, shuffle=True)\n",
    "    val = MNISTDataset(val_images, val_label)     \n",
    "    val_dl = DataLoader(val, batch_size=len(val_images), shuffle=True)\n",
    "    return trn_dl, val_dl\n",
    "\n",
    "def train_batch(x, y, model, opt, loss_fn):\n",
    "    # TODO: selbst implementieren und auf richtige Reihenfolge von .backward(), .step() und .zero_grad() achten.\n",
    "    # https://pytorch.org/tutorials/ ist hierfür ganz hilfreich\n",
    "    ########## CODE ERGÄNZEN #########\n",
    "    pass\n",
    "    \n",
    "\n",
    "@torch.no_grad()\n",
    "def accuracy(x, y, model):\n",
    "    # TODO: vorgegebenes Fehlermaß - in unserem Fall nehmen wir Accuracy - selbst programmieren\n",
    "    ########## CODE ERGÄNZEN #########\n",
    "    pass\n",
    "\n",
    "@torch.no_grad()\n",
    "def val_loss(x, y, model):\n",
    "    model.eval()\n",
    "    prediction = model(x)\n",
    "    val_loss = loss_fn(prediction, y)\n",
    "    return val_loss.item()\n",
    "\n",
    "# Wichtige Sachen laden und initialisieren\n",
    "model = CNN()\n",
    "model.to(device)\n",
    "loss_fn = nn.CrossEntropyLoss()\n",
    "optimizer = optim.Adam(model.parameters(), lr = 1e-3)\n",
    "\n",
    "trn_dl, val_dl = get_data()\n",
    "\n",
    "train_losses, train_accuracies = [], []\n",
    "val_losses, val_accuracies = [], []\n",
    "\n",
    "# Training\n",
    "for epoch in range(5):\n",
    "    train_epoch_losses, train_epoch_accuracies = [], []\n",
    "    for ix, batch in enumerate(iter(trn_dl)):\n",
    "        x, y = batch\n",
    "        batch_loss = train_batch(x, y, model, optimizer, loss_fn)\n",
    "        train_epoch_losses.append(batch_loss)        \n",
    "    train_epoch_loss = np.array(train_epoch_losses).mean()\n",
    "\n",
    "    for ix, batch in enumerate(iter(trn_dl)):\n",
    "        x, y = batch\n",
    "        is_correct = accuracy(x, y, model)\n",
    "        train_epoch_accuracies.extend(is_correct)\n",
    "    train_epoch_accuracy = np.mean(train_epoch_accuracies)\n",
    "\n",
    "    # TODO: Bestimmt den Loss auf dem Validation Datensatz und bestimmt dazu die Accuracy nach vorigen Beispielen\n",
    "    ########## CODE ERGÄNZEN #########\n",
    "\n",
    "    train_losses.append(train_epoch_loss)\n",
    "    train_accuracies.append(train_epoch_accuracy)\n",
    "    #val_losses.append(validation_loss)\n",
    "    #val_accuracies.append(val_epoch_accuracy)\n",
    "\n",
    "epochs = np.arange(5)+1\n",
    "\n",
    "plt.subplot(211)\n",
    "plt.plot(epochs, train_losses, 'bo', label='Training loss')\n",
    "plt.plot(epochs, val_losses, 'r', label='Validation loss')\n",
    "plt.title('Training and validation loss with CNN')\n",
    "plt.xlabel('Epochs')\n",
    "plt.ylabel('Loss')\n",
    "plt.legend()\n",
    "plt.grid('off')\n",
    "plt.show()\n",
    "plt.subplot(212)\n",
    "plt.plot(epochs, train_accuracies, 'bo', label='Training accuracy')\n",
    "plt.plot(epochs, val_accuracies, 'r', label='Validation accuracy')\n",
    "plt.title('Training and validation accuracy with CNN')\n",
    "plt.xlabel('Epochs')\n",
    "plt.ylabel('Accuracy')\n",
    "plt.gca().set_yticklabels(['{:.0f}%'.format(x*100) for x in plt.gca().get_yticks()]) \n",
    "plt.legend()\n",
    "plt.grid('off')\n",
    "plt.show()"
   ]
  },
  {
   "cell_type": "markdown",
   "metadata": {},
   "source": [
    "Ihr seht hier drei Möglichkeiten die Aktivierungsfunktion zu nutzen. Generell ist zu empfehlen, dass ihr euch für eine der Möglichkeiten entscheidet und diese übergreifend in euren Implementierungen nutzt und nicht die Möglichkeiten miteinander verbindet. Normalerweise werden die einzelnen Schichten eurer neuronalen Netze in der \"\\_\\_init\\_\\_()\" Funktion als Membervariablen hinzugefügt und aus \"torch.nn\" geladen. Die Aktivierungsfunktionen werden üblicherweise aus \"torch.nn.functional\" in der forward-Methode eingebunden und erhalten keinen Extraeintrag als Membervariable.\n",
    "\n",
    "Zudem seht ihr hier in der obigen Codezelle, dass das eine andere Art der Implementierung ist, als wie wir sie von euch haben wollten. Das liegt daran, dass wir gesagt haben, dass man das obere Netz als zwei \"unterschiedliche\" Netze interpretieren kann; zum einen ein kovolutionales neuronales Netz und zum anderen ein voll vernetztes Netz. Man könnte das Ganze auch vereinfachend so machen, wie wir es in der Hinweiszelle implementiert haben. Wenn ihr euch einmal mit weiteren Strukturen wie beispielsweise Encoder-Decoder-Netzen beschäftigen solltet, dann ist es best practice die einzelnen Blöcke des Netzes in extra Klassenmembervariablen zu schreiben wie \"self.encoder = nn.Sequential(...)\" und \"self.decoder = nn.Sequential(...)\". "
   ]
  },
  {
   "cell_type": "code",
   "execution_count": null,
   "metadata": {},
   "outputs": [],
   "source": [
    "# Kleine Tipps, Tricks und Hinweise\n",
    "\n",
    "# Die folgenden Imports haben sich übergreifend als Imports unter den entsprechenden Namen festgesetzt\n",
    "import torch.nn as nn\n",
    "import torch.nn.functional as F\n",
    "import torch.optim as optim\n",
    "\n",
    "# Netzerstellung\n",
    "class Net(nn.Module):\n",
    "    def __init__(self):\n",
    "        super(Net, self).__init__()\n",
    "        self.fc1 = nn.Linear(28*28, 1000)\n",
    "        self.fc2 = nn.Linear(1000, 1000)\n",
    "        self.fc3 = nn.Linear(1000, 10)\n",
    "        self.dropout = nn.Dropout(p=0.5)\n",
    "        self.activation = nn.Tanh() # Möglichkeit 1 - Aktivierungsfunktion als Membervariable der Klasse\n",
    "\n",
    "    def forward(self, input):\n",
    "        x = self.fc1(input)\n",
    "        x = self.activation(x) # Möglichkeit 1\n",
    "        x = self.fc2(x)\n",
    "        x = F.tanh(x) # Möglichkeit 2 - aber F.tanh ist deprecated und nicht mehr empfohlen\n",
    "        x = self.dropout(x)\n",
    "        x = self.fc3(x)\n",
    "        x = torch.tanh(x) # Möglichkeit 3\n",
    "        return x\n",
    "\n"
   ]
  },
  {
   "cell_type": "markdown",
   "metadata": {},
   "source": [
    "Falls ihr weitere Fragen habt, könnt ihr euch gerne an uns wenden :)"
   ]
  }
 ],
 "metadata": {
  "interpreter": {
   "hash": "1239a62f268c8679f8951be957ecbeb0f7f029e4231c795f21c12b571c0bde40"
  },
  "kernelspec": {
   "display_name": "Python 3 (ipykernel)",
   "language": "python",
   "name": "python3"
  },
  "language_info": {
   "codemirror_mode": {
    "name": "ipython",
    "version": 3
   },
   "file_extension": ".py",
   "mimetype": "text/x-python",
   "name": "python",
   "nbconvert_exporter": "python",
   "pygments_lexer": "ipython3",
   "version": "3.9.12"
  }
 },
 "nbformat": 4,
 "nbformat_minor": 2
}
